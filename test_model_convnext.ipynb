{
 "cells": [
  {
   "cell_type": "code",
   "execution_count": 1,
   "metadata": {},
   "outputs": [
    {
     "name": "stderr",
     "output_type": "stream",
     "text": [
      "/home/waki-lab/anaconda3/envs/wakilab/lib/python3.9/site-packages/timm/models/_factory.py:114: UserWarning: Mapping deprecated model name convnext_small_384_in22ft1k to current convnext_small.fb_in22k_ft_in1k_384.\n",
      "  model = create_fn(\n"
     ]
    },
    {
     "name": "stdout",
     "output_type": "stream",
     "text": [
      "(224, 224, 3)\n",
      "torch.Size([1, 3, 224, 224])\n",
      "torch.Size([1, 4])\n",
      "2\n"
     ]
    }
   ],
   "source": [
    "# ConvNeXt-V2\n",
    "\n",
    "import timm\n",
    "import torch\n",
    "from PIL import Image\n",
    "import numpy as np\n",
    "import os\n",
    "\n",
    "current_dir = os.path.dirname(os.path.abspath(os.getcwd()))\n",
    "convnext = timm.create_model(\"convnext_small_384_in22ft1k\", pretrained=False, num_classes=4)\n",
    "#convnext.load_state_dict(torch.load(\"/home/waki-lab/デスクトップ/chiba/chiba2023_kouki/画像系/save_pth/model_checkpoint.pth\"))\n",
    "#convnext.load_state_dict(torch.load(\"/home/waki-lab/デスクトップ/chiba/chiba2023_kouki/画像系/save_pth/model_checkpoint_pillow.pth\"))\n",
    "\n",
    "# convnext.eval()\n",
    "\n",
    "input_image = Image.open(current_dir+\"/convnext/test/test001.jpg\")\n",
    "input_image = np.array(input_image)\n",
    "print(input_image.shape)\n",
    "input_image = torch.from_numpy(input_image)\n",
    "input_image = input_image.unsqueeze(0) # add a new dimension to the tensor\n",
    "input_image = input_image.squeeze(-1) # remove the last dimension from the tensor\n",
    "input_image = input_image.permute(0, 3, 1, 2) # permute the dimensions\n",
    "print(input_image.shape)\n",
    "\n",
    "# Fix the RuntimeError by loading the state_dict correctly\n",
    "state_dict = torch.load(current_dir+\"/convnext/save_pth/model_checkpoint.pth\")\n",
    "new_state_dict = {}\n",
    "\n",
    "for key in state_dict.keys():\n",
    "\n",
    "    if key.startswith(\"model.\"):\n",
    "        new_key = key[6:]  # Remove the \"model.\" prefix\n",
    "        new_state_dict[new_key] = state_dict[key]\n",
    "\n",
    "#print(new_state_dict)\n",
    "convnext.load_state_dict(new_state_dict)  # Set strict=False to ignore missing keys\n",
    "\n",
    "with torch.inference_mode():\n",
    "    input_image = input_image.float() # convert input to float\n",
    "    prediction = convnext(input_image)\n",
    "    print(prediction.size())\n",
    "    _, preds = torch.max(prediction, 1)\n",
    "    #予測ラベル\n",
    "    pred=str(preds.item())\n",
    "    print(pred)"
   ]
  },
  {
   "cell_type": "code",
   "execution_count": 2,
   "metadata": {},
   "outputs": [
    {
     "name": "stdout",
     "output_type": "stream",
     "text": [
      "0\n",
      "0\n",
      "100\n",
      "0\n"
     ]
    }
   ],
   "source": [
    "import os\n",
    "\n",
    "folder_path = current_dir+'/convnext/test'  # Replace with the actual folder path\n",
    "\n",
    "file_paths = []\n",
    "for root, dirs, files in os.walk(folder_path):\n",
    "    for file in files:\n",
    "        file_path = os.path.join(root, file)\n",
    "        file_paths.append(file_path)\n",
    "a=0\n",
    "b=0\n",
    "c=0\n",
    "d=0\n",
    "for file_path in file_paths:\n",
    "    input_image = Image.open(file_path)\n",
    "    input_image = np.array(input_image)\n",
    "    input_image = torch.from_numpy(input_image)\n",
    "    input_image = input_image.unsqueeze(0) # add a new dimension to the tensor\n",
    "    input_image = input_image.squeeze(-1) # remove the last dimension from the tensor\n",
    "    input_image = input_image.permute(0, 3, 1, 2) # permute the dimensions\n",
    "\n",
    "    with torch.inference_mode():\n",
    "        input_image = input_image.float() # convert input to float\n",
    "        prediction = convnext(input_image)\n",
    "        _, preds = torch.max(prediction, 1)\n",
    "        #予測ラベル\n",
    "        pred=str(preds.item())\n",
    "        if pred==\"0\":\n",
    "            a+=1\n",
    "        elif pred==\"1\":\n",
    "            b+=1\n",
    "        elif pred==\"2\":\n",
    "            c+=1\n",
    "        else:\n",
    "            d+=1\n",
    "print(a)\n",
    "print(b)\n",
    "print(c)\n",
    "print(d)    \n"
   ]
  }
 ],
 "metadata": {
  "kernelspec": {
   "display_name": "wakilab",
   "language": "python",
   "name": "python3"
  },
  "language_info": {
   "codemirror_mode": {
    "name": "ipython",
    "version": 3
   },
   "file_extension": ".py",
   "mimetype": "text/x-python",
   "name": "python",
   "nbconvert_exporter": "python",
   "pygments_lexer": "ipython3",
   "version": "3.9.12"
  }
 },
 "nbformat": 4,
 "nbformat_minor": 2
}
